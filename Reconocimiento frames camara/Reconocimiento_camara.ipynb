{
 "metadata": {
  "language_info": {
   "codemirror_mode": {
    "name": "ipython",
    "version": 3
   },
   "file_extension": ".py",
   "mimetype": "text/x-python",
   "name": "python",
   "nbconvert_exporter": "python",
   "pygments_lexer": "ipython3",
   "version": "3.7.6-final"
  },
  "orig_nbformat": 2,
  "kernelspec": {
   "name": "python37664bitbaseconda3420920a5808411b8005195853e6218d",
   "display_name": "Python 3.7.6 64-bit ('base': conda)"
  }
 },
 "nbformat": 4,
 "nbformat_minor": 2,
 "cells": [
  {
   "cell_type": "code",
   "execution_count": 1,
   "metadata": {},
   "outputs": [],
   "source": [
    "import cv2\n",
    "import time"
   ]
  },
  {
   "## Calculo de frames por medio de Opencv"
   "cell_type": "code",
   "execution_count": 15,
   "metadata": {
    "tags": []
   },
   "outputs": [
    {
     "output_type": "stream",
     "name": "stdout",
     "text": "Los frames por segundo usados son: 30.0\n"
    }
   ],
   "source": [
    "video = cv2.VideoCapture(0)\n",
    "(ver_mayor, ver_menor, ver_med) = (cv2.__version__).split('.')\n",
    "if int(ver_mayor) < 3:\n",
    "    fps = video.get(cv2.cv.CV_CAP_PROP_FPS)\n",
    "    print(\"Los frames por segundo usados son: {0}\".format(fps))\n",
    "else:\n",
    "    fps = video.get(cv2.CAP_PROP_FPS)\n",
    "    print(\"Los frames por segundo usados son: {0}\".format(fps))"
   ]
  },
  {
   "cell_type": "code",
   "execution_count": 18,
   "metadata": {
    "tags": []
   },
   "outputs": [
    {
     "output_type": "stream",
     "name": "stdout",
     "text": "capturando 120 frames:\ntiempo tomado es: 4.254450798034668 segundos\nFrames estimados por segundos: 28.205755735953904\n"
    }
   ],
   "source": [
    "num_frames = 120\n",
    "print(\"capturando {0} frames:\".format(num_frames))\n",
    "inicio = time.time()\n",
    "for i in range(0, num_frames):\n",
    "    ret, frame = video.read()\n",
    "fin = time.time()\n",
    "\n",
    "segundos = fin - inicio\n",
    "print(\"tiempo tomado es: {0} segundos\".format(segundos))\n",
    "fps = num_frames/segundos\n",
    "print(\"Frames estimados por segundos: {0}\".format(fps))\n",
    "video.release()"
   ]
  },
  {
   "cell_type": "code",
   "execution_count": null,
   "metadata": {},
   "outputs": [],
   "source": []
  }
 ]
}
